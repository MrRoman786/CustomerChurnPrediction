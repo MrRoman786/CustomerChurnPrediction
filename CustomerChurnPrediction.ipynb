{
 "cells": [
  {
   "cell_type": "code",
   "execution_count": 38,
   "id": "5dd71baf-6894-43cf-8825-6c9baaf08456",
   "metadata": {},
   "outputs": [
    {
     "name": "stdout",
     "output_type": "stream",
     "text": [
      "Model accuracy: 81%\n",
      "Customer is not Excited\n",
      "\n",
      " Mean Squared Error is : 0.19\n"
     ]
    },
    {
     "name": "stderr",
     "output_type": "stream",
     "text": [
      "C:\\Users\\HP\\AppData\\Local\\Programs\\Python\\Python313\\Lib\\site-packages\\sklearn\\utils\\validation.py:2739: UserWarning: X does not have valid feature names, but StandardScaler was fitted with feature names\n",
      "  warnings.warn(\n"
     ]
    }
   ],
   "source": [
    "import pandas as pd\n",
    "from sklearn.model_selection import train_test_split\n",
    "from sklearn.linear_model import LogisticRegression\n",
    "from sklearn.preprocessing import StandardScaler,MinMaxScaler,RobustScaler\n",
    "from sklearn.metrics import mean_squared_error\n",
    "# Load the data set\n",
    "data_set = pd.read_csv(\"F:/python/MachineLearning.py/Churn_Modelling.csv\")\n",
    "# Encode Categorical data into Numerical\n",
    "actual_data = pd.get_dummies(data_set, columns=['Geography', 'Gender'], drop_first=True)\n",
    "# Separate Dependent & Independent Variables\n",
    "x = actual_data.drop(columns='Exited')\n",
    "y = actual_data['Exited']\n",
    "# Scale features\n",
    "scaler = StandardScaler()\n",
    "#scaler=MinMaxScaler()\n",
    "#scaler=RobustScaler()\n",
    "x = scaler.fit_transform(x)\n",
    "# Train-test split\n",
    "x_train, x_test, y_train, y_test = train_test_split(x, y, test_size=.4, random_state=42)\n",
    "# Train model\n",
    "lr = LogisticRegression(solver='liblinear', max_iter=10000)\n",
    "lr.fit(x_train, y_train)\n",
    "y_predict=lr.predict(x_test)\n",
    "print(f\"Model accuracy: {round(lr.score(x_test, y_test) * 100)}%\")\n",
    "#In this Case 1 represent Gender Male if 0 it will indicate female\n",
    "#I have 3 countries france,germany & spane 0,0 represent no france no germamny it represent 1 france means customer from france\n",
    "input_features = [[533, 35, 4, 543000, 3, 1, 1, 147000, 0, 0, 1]]  \n",
    "scaled_input = scaler.transform(input_features)\n",
    "prediction = lr.predict(scaled_input)\n",
    "if prediction[0]==1:\n",
    " print(f\"Customer is Excited to remain in bank\")\n",
    "else:\n",
    " print(\"Customer is not Excited\")\n",
    "\n",
    "#y_test,predict\n",
    "mse=mean_squared_error(y_test,y_predict)\n",
    "print(f\"\\n Mean Squared Error is : {round(mse,2)}\")"
   ]
  },
  {
   "cell_type": "code",
   "execution_count": null,
   "id": "6211a9c5-b79b-40f7-9b83-731b279af1f0",
   "metadata": {},
   "outputs": [],
   "source": []
  },
  {
   "cell_type": "code",
   "execution_count": null,
   "id": "a20e336a-cbbe-4365-9e08-321d40d3ac01",
   "metadata": {},
   "outputs": [],
   "source": []
  }
 ],
 "metadata": {
  "kernelspec": {
   "display_name": "Python 3 (ipykernel)",
   "language": "python",
   "name": "python3"
  },
  "language_info": {
   "codemirror_mode": {
    "name": "ipython",
    "version": 3
   },
   "file_extension": ".py",
   "mimetype": "text/x-python",
   "name": "python",
   "nbconvert_exporter": "python",
   "pygments_lexer": "ipython3",
   "version": "3.13.0"
  }
 },
 "nbformat": 4,
 "nbformat_minor": 5
}
